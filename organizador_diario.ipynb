{
 "cells": [
  {
   "cell_type": "markdown",
   "metadata": {},
   "source": [
    "## Introduccion CrewAI\n",
    "\n",
    "Importamos las dependencias \n"
   ]
  },
  {
   "cell_type": "code",
   "execution_count": null,
   "metadata": {},
   "outputs": [
    {
     "ename": "ModuleNotFoundError",
     "evalue": "No module named 'crewai'",
     "output_type": "error",
     "traceback": [
      "\u001b[1;31m---------------------------------------------------------------------------\u001b[0m",
      "\u001b[1;31mModuleNotFoundError\u001b[0m                       Traceback (most recent call last)",
      "Cell \u001b[1;32mIn[2], line 1\u001b[0m\n\u001b[1;32m----> 1\u001b[0m \u001b[38;5;28;01mfrom\u001b[39;00m\u001b[38;5;250m \u001b[39m\u001b[38;5;21;01mcrewai\u001b[39;00m\u001b[38;5;250m \u001b[39m\u001b[38;5;28;01mimport\u001b[39;00m Agent, Crew, Task, LLM\n\u001b[0;32m      2\u001b[0m \u001b[38;5;28;01mimport\u001b[39;00m\u001b[38;5;250m \u001b[39m\u001b[38;5;21;01mos\u001b[39;00m\n\u001b[0;32m      3\u001b[0m \u001b[38;5;28;01mimport\u001b[39;00m\u001b[38;5;250m \u001b[39m\u001b[38;5;21;01mjson\u001b[39;00m\n",
      "\u001b[1;31mModuleNotFoundError\u001b[0m: No module named 'crewai'"
     ]
    }
   ],
   "source": [
    "from crewai import Agent, Crew, Task, LLM\n",
    "import os\n",
    "import json\n",
    "import yaml\n",
    "import groq\n",
    "\n",
    "from dotenv import load_dotenv\n",
    "\n",
    "load_dotenv()"
   ]
  },
  {
   "cell_type": "markdown",
   "metadata": {},
   "source": [
    "### Importamos LLM para escoger el modelo que vamos a utilizar\n",
    "\n",
    "Aqui podemos ver todos los proveedores posibles:\n",
    "https://docs.crewai.com/concepts/llms"
   ]
  },
  {
   "cell_type": "code",
   "execution_count": null,
   "metadata": {},
   "outputs": [],
   "source": [
    "llm = LLM(model=\"gpt-4o-mini\")"
   ]
  },
  {
   "cell_type": "markdown",
   "metadata": {},
   "source": [
    "### Archivos YAML\n",
    "\n",
    "En CrewAI, se suelen utilizar archivos yaml, para los prompts, lo que ayuda a que todo este mucho mejor organizado."
   ]
  },
  {
   "cell_type": "code",
   "execution_count": 3,
   "metadata": {},
   "outputs": [],
   "source": [
    "files = {\n",
    "    'agents': 'config/agents.yaml',\n",
    "    'tasks': 'config/tasks.yaml'\n",
    "}\n",
    "\n",
    "# Load configurations from YAML files\n",
    "configs = {}\n",
    "for config_type, file_path in files.items():\n",
    "    with open(file_path, 'r') as file:\n",
    "        configs[config_type] = yaml.safe_load(file)\n",
    "\n",
    "# Assign loaded configurations to specific variables\n",
    "agents_config = configs['agents']\n",
    "tasks_config = configs['tasks']"
   ]
  },
  {
   "cell_type": "markdown",
   "metadata": {},
   "source": [
    "## Creamos las herramientas\n",
    "\n",
    "Hay varias formas de crear herramientas en CrewAI, podemos utilizar el decorador @tool, como vimos en la clase anterior, o tambien podemos hacerlo con la clase BaseTool.\n",
    "\n",
    "https://docs.crewai.com/concepts/tools\n",
    "\n",
    "CrewAI, nos proporciona una gran cantidad de herramientas bastante potentes ya construidas para leer archivos, scrapear webs, hacer busquedas RAG...\n",
    "\n",
    "https://docs.crewai.com/tools/\n",
    "\n",
    "\n",
    "En este caso, vamos a crear una herramienta que busque el tiempo, otra que busque las actividades disponibles en Nantes, y por ultimo vamos a analizar una imagen a traves de una herramienta."
   ]
  },
  {
   "cell_type": "code",
   "execution_count": 4,
   "metadata": {},
   "outputs": [],
   "source": [
    "from crewai.tools import tool\n",
    "import http.client\n",
    "from datetime import datetime\n",
    "import random\n",
    "\n",
    "import http.client\n",
    "import json\n",
    "import os\n",
    "from langchain.tools import tool\n",
    "\n",
    "@tool\n",
    "def get_weather(city: str, country_code: str = None) -> str:\n",
    "    \"\"\"\n",
    "    Obtiene información del tiempo para una ciudad específica.\n",
    "    \n",
    "    Args:\n",
    "        city: Nombre de la ciudad\n",
    "        country_code: Código del país en formato ISO (opcional, ej: ES, FR)\n",
    "    \n",
    "    Returns:\n",
    "        str: Información del tiempo formateada\n",
    "    \"\"\"\n",
    "    try:\n",
    "        conn = http.client.HTTPSConnection(\"open-weather13.p.rapidapi.com\")\n",
    "        \n",
    "        # Verificar que las credenciales estén disponibles\n",
    "        api_key = os.getenv(\"X_RAPIDAPI_KEY\")\n",
    "        api_host = os.getenv(\"X_RAPIDAPI_HOST\")\n",
    "\n",
    "        \n",
    "        if not api_key or not api_host:\n",
    "            return \"Error: No se encontraron las credenciales de API en las variables de entorno\"\n",
    "        \n",
    "        headers = {\n",
    "            'X-RapidAPI-Key': api_key,\n",
    "            'X-RapidAPI-Host': api_host\n",
    "        }\n",
    "        \n",
    "        # Construir la ruta correctamente\n",
    "        if country_code:\n",
    "            path = f\"/city/{city}/{country_code}\"\n",
    "        else:\n",
    "            path = f\"/city/{city}\"\n",
    "            \n",
    "        print(f\"Requesting: {path}\")  # Para debugging\n",
    "        \n",
    "        conn.request(\"GET\", path, headers=headers)\n",
    "        response = conn.getresponse()\n",
    "        \n",
    "        if response.status != 200:\n",
    "            return f\"Error: La API respondió con código {response.status}\"\n",
    "            \n",
    "        data = json.loads(response.read().decode(\"utf-8\"))\n",
    "        \n",
    "        # Verificar que los datos necesarios estén presentes\n",
    "        if 'main' not in data or 'weather' not in data:\n",
    "            return \"Error: Datos del clima incompletos en la respuesta\"\n",
    "            \n",
    "        weather_info = (\n",
    "            f\"Tiempo en {city}:\\n\"\n",
    "            f\"Temperatura: {data['main']['temp']}°C\\n\"\n",
    "            f\"Sensación térmica: {data['main']['feels_like']}°C\\n\"\n",
    "            f\"Humedad: {data['main']['humidity']}%\\n\"\n",
    "            f\"Descripción: {data['weather'][0]['description']}\"\n",
    "        )\n",
    "        \n",
    "        return weather_info\n",
    "        \n",
    "    except json.JSONDecodeError:\n",
    "        return \"Error: No se pudo decodificar la respuesta JSON\"\n",
    "    except Exception as e:\n",
    "        return f\"Error al obtener el tiempo: {str(e)}\"\n",
    "    finally:\n",
    "        conn.close()\n",
    "\n",
    "\n",
    "\n",
    "@tool\n",
    "def get_nantes_activities() -> str:\n",
    "    \"\"\"\n",
    "    Consulta las actividades disponibles hoy en Nantes.\n",
    "    \n",
    "    Returns:\n",
    "        str: Lista de actividades disponibles en Nantes para hoy\n",
    "    \"\"\"\n",
    "    # Lista de actividades predefinidas\n",
    "    activities = [\n",
    "        {\n",
    "            \"nombre\": \"Exposición de Arte Contemporáneo\",\n",
    "            \"lugar\": \"Château des Ducs de Bretagne\",\n",
    "            \"horario\": \"10:00 - 18:00\",\n",
    "            \"precio\": \"12€\"\n",
    "        },\n",
    "        {\n",
    "            \"nombre\": \"Concierto de Jazz\",\n",
    "            \"lugar\": \"Le Lieu Unique\",\n",
    "            \"horario\": \"20:30 - 23:00\",\n",
    "            \"precio\": \"15€\"\n",
    "        },\n",
    "        {\n",
    "            \"nombre\": \"Tour en Les Machines de l'île\",\n",
    "            \"lugar\": \"Île de Nantes\",\n",
    "            \"horario\": \"10:00 - 19:00\",\n",
    "            \"precio\": \"8.50€\"\n",
    "        },\n",
    "        {\n",
    "            \"nombre\": \"Mercado Local Gastronómico\",\n",
    "            \"lugar\": \"Place Talensac\",\n",
    "            \"horario\": \"8:00 - 13:00\",\n",
    "            \"precio\": \"Entrada libre\"\n",
    "        },\n",
    "        {\n",
    "            \"nombre\": \"Taller de Vinos del Loira\",\n",
    "            \"lugar\": \"La Cave du Loire\",\n",
    "            \"horario\": \"16:00 - 18:00\",\n",
    "            \"precio\": \"25€\"\n",
    "        }\n",
    "    ]\n",
    "    \n",
    "    # Seleccionar aleatoriamente 2-3 actividades para \"hoy\"\n",
    "    today_activities = random.sample(activities, random.randint(2, 3))\n",
    "    \n",
    "    # Formatear la respuesta\n",
    "    response = f\"Actividades disponibles hoy en Nantes ({datetime.now().strftime('%d/%m/%Y')}):\\n\\n\"\n",
    "    \n",
    "    for activity in today_activities:\n",
    "        response += (\n",
    "            f\"🎯 {activity['nombre']}\\n\"\n",
    "            f\"📍 Lugar: {activity['lugar']}\\n\"\n",
    "            f\"🕒 Horario: {activity['horario']}\\n\"\n",
    "            f\"💶 Precio: {activity['precio']}\\n\\n\"\n",
    "        )\n",
    "    \n",
    "    return response\n",
    "\n",
    "\n",
    "\n",
    "import base64\n",
    "from openai import OpenAI\n",
    "from typing import Optional\n",
    "\n",
    "@tool\n",
    "def analyze_image(image_path: str, prompt: Optional[str] = \"What is in this image?\") -> str:\n",
    "    \"\"\"\n",
    "    Analiza una imagen utilizando el modelo GPT-4 Vision de OpenAI.\n",
    "    \n",
    "    Args:\n",
    "        image_path: Ruta al archivo de imagen a analizar\n",
    "        prompt: Pregunta o prompt específico para analizar la imagen (opcional)\n",
    "    \n",
    "    Returns:\n",
    "        str: Descripción o análisis de la imagen\n",
    "    \"\"\"\n",
    "    try:\n",
    "        # Inicializar el cliente de OpenAI\n",
    "        client = OpenAI()\n",
    "        \n",
    "        # Codificar la imagen en base64\n",
    "        def encode_image(image_path):\n",
    "            with open(image_path, \"rb\") as image_file:\n",
    "                return base64.b64encode(image_file.read()).decode(\"utf-8\")\n",
    "        \n",
    "        # Obtener la imagen en formato base64\n",
    "        base64_image = encode_image(image_path)\n",
    "        \n",
    "        # Crear la solicitud a la API\n",
    "        response = client.chat.completions.create(\n",
    "            model=\"gpt-4o\",  # Asegurarse de usar el modelo correcto\n",
    "            messages=[\n",
    "                {\n",
    "                    \"role\": \"user\",\n",
    "                    \"content\": [\n",
    "                        {\n",
    "                            \"type\": \"text\",\n",
    "                            \"text\": prompt,\n",
    "                        },\n",
    "                        {\n",
    "                            \"type\": \"image_url\",\n",
    "                            \"image_url\": {\n",
    "                                \"url\": f\"data:image/jpeg;base64,{base64_image}\"\n",
    "                            },\n",
    "                        },\n",
    "                    ],\n",
    "                }\n",
    "            ],\n",
    "            max_tokens=300  # Ajustar según necesidades\n",
    "        )\n",
    "        \n",
    "        # Extraer y retornar la respuesta\n",
    "        return response.choices[0].message.content\n",
    "        \n",
    "    except Exception as e:\n",
    "        return f\"Error al analizar la imagen: {str(e)}\""
   ]
  },
  {
   "cell_type": "code",
   "execution_count": 5,
   "metadata": {},
   "outputs": [
    {
     "name": "stdout",
     "output_type": "stream",
     "text": [
      "Requesting: /city/Nantes/NTE\n"
     ]
    },
    {
     "data": {
      "text/plain": [
       "'Tiempo en Nantes:\\nTemperatura: 49.93°C\\nSensación térmica: 49.21°C\\nHumedad: 87%\\nDescripción: overcast clouds'"
      ]
     },
     "execution_count": 5,
     "metadata": {},
     "output_type": "execute_result"
    }
   ],
   "source": [
    "get_weather.run({\n",
    "    'city':'Nantes',\n",
    "    'country_code': 'NTE'\n",
    "})"
   ]
  },
  {
   "cell_type": "markdown",
   "metadata": {},
   "source": [
    "## Construimos el sistema de Agentes\n",
    "\n",
    "Iniciamos los agentes, las tareas y les pasamos la configuracion.\n",
    "\n",
    "Por ultimo inciamos la crew, en este caso, va a seguir un flujo secuencial, pero podriamos modificarlo para que fuese jerarquico.\n",
    "\n"
   ]
  },
  {
   "cell_type": "code",
   "execution_count": 6,
   "metadata": {},
   "outputs": [],
   "source": [
    "# Creating Agents\n",
    "extractor_tareas = Agent(\n",
    "  config=agents_config['extractor_tareas'],\n",
    "  llm=llm,\n",
    "  tools=[analyze_image]\n",
    ")\n",
    "\n",
    "organizador = Agent(\n",
    "  config=agents_config['organizador'],\n",
    "  llm=llm\n",
    ")\n",
    "\n",
    "freetime_planner = Agent(\n",
    "  config=agents_config['freetime_planner'],\n",
    "  tools=[get_weather, get_nantes_activities],\n",
    "  llm=llm\n",
    ")\n",
    "\n",
    "organizador_final = Agent(\n",
    "  config=agents_config['organizador_final'],\n",
    "  llm=llm\n",
    ")\n",
    "\n",
    "# Creating Tasks\n",
    "extraer_tareas = Task(\n",
    "  config=tasks_config['extraer_tareas'],\n",
    "  agent=extractor_tareas\n",
    ")\n",
    "\n",
    "organizar_tareas = Task(\n",
    "  config=tasks_config['organizar_tareas'],\n",
    "  agent=organizador,\n",
    "  \n",
    ")\n",
    "\n",
    "planear_freetime = Task(\n",
    "  config=tasks_config['planear_freetime'],\n",
    "  agent=freetime_planner,\n",
    "\n",
    ")\n",
    "\n",
    "crear_horario = Task(\n",
    "  config=tasks_config['crear_horario'],\n",
    "  agent=organizador_final,\n",
    "  context=[organizar_tareas, planear_freetime]\n",
    ")\n",
    "\n",
    "# Creating Crew\n",
    "crew = Crew(\n",
    "  agents=[\n",
    "    extractor_tareas,\n",
    "    organizador,\n",
    "    freetime_planner,\n",
    "    organizador_final\n",
    "  ],\n",
    "  tasks=[\n",
    "    extraer_tareas,\n",
    "    organizar_tareas,\n",
    "    planear_freetime,\n",
    "    crear_horario\n",
    "  ],\n",
    "  verbose=True\n",
    ")"
   ]
  },
  {
   "cell_type": "code",
   "execution_count": null,
   "metadata": {},
   "outputs": [
    {
     "name": "stdout",
     "output_type": "stream",
     "text": [
      "\u001b[1m\u001b[95m# Agent:\u001b[00m \u001b[1m\u001b[92mTask List Analysis Specialist\u001b[00m\n",
      "\u001b[95m## Task:\u001b[00m \u001b[92m- Analyze provided images containing handwritten or digital task lists - Extract and convert task items into structured text format - Perform complexity analysis for each task:\n",
      "  * Evaluate cognitive load requirements (focus, mental effort, expertise needed)\n",
      "  * Assess urgency level based on implicit and explicit time indicators\n",
      "- Apply consistent evaluation criteria across all tasks - Consider context clues in the image that might affect task interpretation - Handle both clear and ambiguous task descriptions - Account for different handwriting styles and digital formats - Maintain accuracy in text extraction while preserving original meaning - DO NOT create subtask just organize the ones you have received. temp_images/IMG_3852.jpeg\n",
      "\u001b[00m\n",
      "\n",
      "\n",
      "\u001b[1m\u001b[95m# Agent:\u001b[00m \u001b[1m\u001b[92mTask List Analysis Specialist\u001b[00m\n",
      "\u001b[95m## Using tool:\u001b[00m \u001b[92manalyze_image\u001b[00m\n",
      "\u001b[95m## Tool Input:\u001b[00m \u001b[92m\n",
      "\"{\\\"image_path\\\": \\\"temp_images/IMG_3852.jpeg\\\", \\\"prompt\\\": null}\"\u001b[00m\n",
      "\u001b[95m## Tool Output:\u001b[00m \u001b[92m\n",
      "Error al analizar la imagen: Error code: 400 - {'error': {'message': 'Invalid content type. image_url is only supported by certain models.', 'type': 'invalid_request_error', 'param': 'messages.[0].content.[1].type', 'code': None}}\u001b[00m\n",
      "\n",
      "\n",
      "\u001b[1m\u001b[95m# Agent:\u001b[00m \u001b[1m\u001b[92mTask List Analysis Specialist\u001b[00m\n",
      "\u001b[95m## Using tool:\u001b[00m \u001b[92manalyze_image\u001b[00m\n",
      "\u001b[95m## Tool Input:\u001b[00m \u001b[92m\n",
      "\"{\\\"image_path\\\": \\\"temp_images/IMG_3852.jpeg\\\", \\\"prompt\\\": null}\"\u001b[00m\n",
      "\u001b[95m## Tool Output:\u001b[00m \u001b[92m\n",
      "I tried reusing the same input, I must stop using this action input. I'll try something else instead.\n",
      "\n",
      "\u001b[00m\n"
     ]
    }
   ],
   "source": [
    "url = \"temp_images/IMG_3852.jpeg\"\n",
    "result = crew.kickoff(inputs={'image': url})"
   ]
  },
  {
   "cell_type": "code",
   "execution_count": 9,
   "metadata": {},
   "outputs": [
    {
     "ename": "NameError",
     "evalue": "name 'result' is not defined",
     "output_type": "error",
     "traceback": [
      "\u001b[0;31m---------------------------------------------------------------------------\u001b[0m",
      "\u001b[0;31mNameError\u001b[0m                                 Traceback (most recent call last)",
      "Cell \u001b[0;32mIn[9], line 3\u001b[0m\n\u001b[1;32m      1\u001b[0m \u001b[38;5;28;01mfrom\u001b[39;00m\u001b[38;5;250m \u001b[39m\u001b[38;5;21;01mIPython\u001b[39;00m\u001b[38;5;21;01m.\u001b[39;00m\u001b[38;5;21;01mdisplay\u001b[39;00m\u001b[38;5;250m \u001b[39m\u001b[38;5;28;01mimport\u001b[39;00m Markdown\n\u001b[0;32m----> 3\u001b[0m markdown  \u001b[38;5;241m=\u001b[39m \u001b[43mresult\u001b[49m\u001b[38;5;241m.\u001b[39mraw\n\u001b[1;32m      4\u001b[0m Markdown(markdown)\n",
      "\u001b[0;31mNameError\u001b[0m: name 'result' is not defined"
     ]
    }
   ],
   "source": [
    "from IPython.display import Markdown\n",
    "\n",
    "markdown  = result.raw\n",
    "Markdown(markdown)"
   ]
  },
  {
   "cell_type": "markdown",
   "metadata": {},
   "source": [
    "## Medimos el coste de la iteracion"
   ]
  },
  {
   "cell_type": "code",
   "execution_count": 8,
   "metadata": {},
   "outputs": [
    {
     "name": "stdout",
     "output_type": "stream",
     "text": [
      "Total costs: $0.0016\n"
     ]
    },
    {
     "data": {
      "text/html": [
       "<div>\n",
       "<style scoped>\n",
       "    .dataframe tbody tr th:only-of-type {\n",
       "        vertical-align: middle;\n",
       "    }\n",
       "\n",
       "    .dataframe tbody tr th {\n",
       "        vertical-align: top;\n",
       "    }\n",
       "\n",
       "    .dataframe thead th {\n",
       "        text-align: right;\n",
       "    }\n",
       "</style>\n",
       "<table border=\"1\" class=\"dataframe\">\n",
       "  <thead>\n",
       "    <tr style=\"text-align: right;\">\n",
       "      <th></th>\n",
       "      <th>total_tokens</th>\n",
       "      <th>prompt_tokens</th>\n",
       "      <th>cached_prompt_tokens</th>\n",
       "      <th>completion_tokens</th>\n",
       "      <th>successful_requests</th>\n",
       "    </tr>\n",
       "  </thead>\n",
       "  <tbody>\n",
       "    <tr>\n",
       "      <th>0</th>\n",
       "      <td>10836</td>\n",
       "      <td>7318</td>\n",
       "      <td>1024</td>\n",
       "      <td>3518</td>\n",
       "      <td>7</td>\n",
       "    </tr>\n",
       "  </tbody>\n",
       "</table>\n",
       "</div>"
      ],
      "text/plain": [
       "   total_tokens  prompt_tokens  cached_prompt_tokens  completion_tokens  \\\n",
       "0         10836           7318                  1024               3518   \n",
       "\n",
       "   successful_requests  \n",
       "0                    7  "
      ]
     },
     "execution_count": 8,
     "metadata": {},
     "output_type": "execute_result"
    }
   ],
   "source": [
    "import pandas as pd\n",
    "\n",
    "costs = 0.150 * (crew.usage_metrics.prompt_tokens + crew.usage_metrics.completion_tokens) / 1_000_000\n",
    "print(f\"Total costs: ${costs:.4f}\")\n",
    "\n",
    "# Convert UsageMetrics instance to a DataFrame\n",
    "df_usage_metrics = pd.DataFrame([crew.usage_metrics.dict()])\n",
    "df_usage_metrics"
   ]
  },
  {
   "cell_type": "code",
   "execution_count": null,
   "metadata": {},
   "outputs": [],
   "source": [
    "crew.plot()"
   ]
  }
 ],
 "metadata": {
  "kernelspec": {
   "display_name": "venv",
   "language": "python",
   "name": "python3"
  },
  "language_info": {
   "codemirror_mode": {
    "name": "ipython",
    "version": 3
   },
   "file_extension": ".py",
   "mimetype": "text/x-python",
   "name": "python",
   "nbconvert_exporter": "python",
   "pygments_lexer": "ipython3",
   "version": "3.12.1"
  }
 },
 "nbformat": 4,
 "nbformat_minor": 2
}
